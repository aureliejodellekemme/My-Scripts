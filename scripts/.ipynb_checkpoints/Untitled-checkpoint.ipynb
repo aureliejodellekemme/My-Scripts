{
 "cells": [
  {
   "cell_type": "code",
   "execution_count": 1,
   "id": "b9e19460",
   "metadata": {},
   "outputs": [
    {
     "name": "stderr",
     "output_type": "stream",
     "text": [
      "C:\\Users\\HP ELITEBOOK\\anaconda3\\Lib\\site-packages\\openpyxl\\worksheet\\_read_only.py:79: UserWarning: Unknown extension is not supported and will be removed\n",
      "  for idx, row in parser.parse():\n"
     ]
    }
   ],
   "source": [
    "with open('clean_RBC.py') as f:\n",
    "    exec(f.read())"
   ]
  },
  {
   "cell_type": "code",
   "execution_count": 2,
   "id": "b70493b8",
   "metadata": {},
   "outputs": [
    {
     "data": {
      "text/html": [
       "<div>\n",
       "<style scoped>\n",
       "    .dataframe tbody tr th:only-of-type {\n",
       "        vertical-align: middle;\n",
       "    }\n",
       "\n",
       "    .dataframe tbody tr th {\n",
       "        vertical-align: top;\n",
       "    }\n",
       "\n",
       "    .dataframe thead th {\n",
       "        text-align: right;\n",
       "    }\n",
       "</style>\n",
       "<table border=\"1\" class=\"dataframe\">\n",
       "  <thead>\n",
       "    <tr style=\"text-align: right;\">\n",
       "      <th></th>\n",
       "      <th>Province</th>\n",
       "      <th>District</th>\n",
       "      <th>Sector</th>\n",
       "      <th>ID</th>\n",
       "      <th>HEALTH FACILITY</th>\n",
       "      <th>Catchment area</th>\n",
       "      <th>Facility type</th>\n",
       "      <th>RBC_EQUIPMENT</th>\n",
       "      <th>EQUIPMENTS</th>\n",
       "      <th>Status</th>\n",
       "    </tr>\n",
       "  </thead>\n",
       "  <tbody>\n",
       "    <tr>\n",
       "      <th>0</th>\n",
       "      <td>Eastern Province</td>\n",
       "      <td>Kayonza</td>\n",
       "      <td>Gahini</td>\n",
       "      <td>NaN</td>\n",
       "      <td>Gahini DH</td>\n",
       "      <td>Gahini DH</td>\n",
       "      <td>District Hospital</td>\n",
       "      <td>Acrylic Curing Units, Dental</td>\n",
       "      <td>Dental Unit</td>\n",
       "      <td>OPERATIONAL</td>\n",
       "    </tr>\n",
       "    <tr>\n",
       "      <th>1</th>\n",
       "      <td>Eastern Province</td>\n",
       "      <td>Kayonza</td>\n",
       "      <td>Gahini</td>\n",
       "      <td>NaN</td>\n",
       "      <td>Gahini DH</td>\n",
       "      <td>Gahini DH</td>\n",
       "      <td>District Hospital</td>\n",
       "      <td>Acrylic Curing Units, Dental</td>\n",
       "      <td>Dental Unit</td>\n",
       "      <td>OPERATIONAL</td>\n",
       "    </tr>\n",
       "    <tr>\n",
       "      <th>2</th>\n",
       "      <td>Northern Province</td>\n",
       "      <td>Rulindo</td>\n",
       "      <td>Kinihira (rulindo)</td>\n",
       "      <td>NaN</td>\n",
       "      <td>Kinihira DH</td>\n",
       "      <td>Kinihira DH</td>\n",
       "      <td>District Hospital</td>\n",
       "      <td>Acrylic Curing Units, Dental</td>\n",
       "      <td>Dental Unit</td>\n",
       "      <td>OPERATIONAL</td>\n",
       "    </tr>\n",
       "    <tr>\n",
       "      <th>3</th>\n",
       "      <td>Northern Province</td>\n",
       "      <td>Gakenke</td>\n",
       "      <td>Mugunga</td>\n",
       "      <td>719.0</td>\n",
       "      <td>Gatonde DH</td>\n",
       "      <td>Gatonde DH</td>\n",
       "      <td>District Hospital</td>\n",
       "      <td>Aerosol Generators</td>\n",
       "      <td>Aerosol Generators</td>\n",
       "      <td>OPERATIONAL</td>\n",
       "    </tr>\n",
       "    <tr>\n",
       "      <th>4</th>\n",
       "      <td>Eastern Province</td>\n",
       "      <td>Nyagatare</td>\n",
       "      <td>Gatunda</td>\n",
       "      <td>414.0</td>\n",
       "      <td>Gatunda DH</td>\n",
       "      <td>Gatunda DH</td>\n",
       "      <td>District Hospital</td>\n",
       "      <td>Aerosol Generators</td>\n",
       "      <td>Aerosol Generators</td>\n",
       "      <td>OPERATIONAL</td>\n",
       "    </tr>\n",
       "  </tbody>\n",
       "</table>\n",
       "</div>"
      ],
      "text/plain": [
       "            Province   District              Sector     ID HEALTH FACILITY  \\\n",
       "0   Eastern Province    Kayonza              Gahini    NaN       Gahini DH   \n",
       "1   Eastern Province    Kayonza              Gahini    NaN       Gahini DH   \n",
       "2  Northern Province    Rulindo  Kinihira (rulindo)    NaN     Kinihira DH   \n",
       "3  Northern Province    Gakenke             Mugunga  719.0      Gatonde DH   \n",
       "4   Eastern Province  Nyagatare             Gatunda  414.0      Gatunda DH   \n",
       "\n",
       "  Catchment area      Facility type                 RBC_EQUIPMENT  \\\n",
       "0      Gahini DH  District Hospital  Acrylic Curing Units, Dental   \n",
       "1      Gahini DH  District Hospital  Acrylic Curing Units, Dental   \n",
       "2    Kinihira DH  District Hospital  Acrylic Curing Units, Dental   \n",
       "3     Gatonde DH  District Hospital            Aerosol Generators   \n",
       "4     Gatunda DH  District Hospital            Aerosol Generators   \n",
       "\n",
       "           EQUIPMENTS       Status  \n",
       "0         Dental Unit  OPERATIONAL  \n",
       "1         Dental Unit  OPERATIONAL  \n",
       "2         Dental Unit  OPERATIONAL  \n",
       "3  Aerosol Generators  OPERATIONAL  \n",
       "4  Aerosol Generators  OPERATIONAL  "
      ]
     },
     "execution_count": 2,
     "metadata": {},
     "output_type": "execute_result"
    }
   ],
   "source": [
    "rbc2.head()"
   ]
  },
  {
   "cell_type": "code",
   "execution_count": 1,
   "id": "0e7dab90",
   "metadata": {},
   "outputs": [],
   "source": [
    "# with open(\"MOH_diseases_burden.py\") as f:\n",
    "#     exec(f.read())"
   ]
  },
  {
   "cell_type": "code",
   "execution_count": 2,
   "id": "c96b9c32",
   "metadata": {},
   "outputs": [
    {
     "data": {
      "text/plain": [
       "Index(['Province', 'District', 'Sector', 'HEALTH FACILITY', 'PERIOD',\n",
       "       'DISEASES', 'NOMBER OF CASES', 'FACILITY TYPE', 'CASES_per_Sector',\n",
       "       'CASES_per_District', 'CASES_per_Province', 'Sect_ID',\n",
       "       'Population_per_Sector', 'Male_per_Sector', 'Female_per_Sector',\n",
       "       'Population_per_District', 'Male_per_District', 'Female_per_District',\n",
       "       'Population_per_Province', 'Male_per_Province', 'Female_per_Province',\n",
       "       'Disease_Burden(%)_per_Sector', 'Disease_Burden(%)_per_District',\n",
       "       'Disease_Burden(%)_per_Province'],\n",
       "      dtype='object')"
      ]
     },
     "execution_count": 2,
     "metadata": {},
     "output_type": "execute_result"
    }
   ],
   "source": [
    "Diseases.columns"
   ]
  },
  {
   "cell_type": "code",
   "execution_count": 3,
   "id": "b34ea4e8",
   "metadata": {},
   "outputs": [],
   "source": [
    "#rbc2.to_csv('C:/Users/HP ELITEBOOK/Documents/VIEBEG_MEDICAL/research/data/manual/rbc.csv',index=False)"
   ]
  },
  {
   "cell_type": "code",
   "execution_count": 4,
   "id": "5bcc85d5",
   "metadata": {},
   "outputs": [
    {
     "data": {
      "text/plain": [
       "Province                          0\n",
       "District                          0\n",
       "Sector                            0\n",
       "HEALTH FACILITY                   0\n",
       "PERIOD                            0\n",
       "DISEASES                          0\n",
       "NOMBER OF CASES                   0\n",
       "FACILITY TYPE                     0\n",
       "CASES_per_Sector                  0\n",
       "CASES_per_District                0\n",
       "CASES_per_Province                0\n",
       "Sect_ID                           0\n",
       "Population_per_Sector             0\n",
       "Male_per_Sector                   0\n",
       "Female_per_Sector                 0\n",
       "Population_per_District           0\n",
       "Male_per_District                 0\n",
       "Female_per_District               0\n",
       "Population_per_Province           0\n",
       "Male_per_Province                 0\n",
       "Female_per_Province               0\n",
       "Disease_Burden(%)_per_Sector      0\n",
       "Disease_Burden(%)_per_District    0\n",
       "Disease_Burden(%)_per_Province    0\n",
       "dtype: int64"
      ]
     },
     "execution_count": 4,
     "metadata": {},
     "output_type": "execute_result"
    }
   ],
   "source": [
    "Diseases.isnull().sum()"
   ]
  },
  {
   "cell_type": "code",
   "execution_count": 6,
   "id": "95bad6e9",
   "metadata": {},
   "outputs": [
    {
     "data": {
      "text/plain": [
       "DISEASES\n",
       "OPD_Acute respiratory disease other                         12720959\n",
       "OPD_Diseases of urinary tract system                         5950166\n",
       "Children consulted for cough or difficult breathing_IMCI     4839293\n",
       "OPD_Intestinal parasites (others)                            4321360\n",
       "Dental caries_OPDnew                                         4185479\n",
       "                                                              ...   \n",
       "OPD_Eye problems                                                   0\n",
       "OPD_Inborn errors of metabolism_RH                                 0\n",
       "OPD_Eye_ophthalmological cancers_RH                                0\n",
       "OPD_Low vision rehabilitation                                      0\n",
       "OPD_Fracture other limb trauma_RH                                  0\n",
       "Name: NOMBER OF CASES, Length: 268, dtype: int64"
      ]
     },
     "execution_count": 6,
     "metadata": {},
     "output_type": "execute_result"
    }
   ],
   "source": [
    "Diseases.groupby('DISEASES')['NOMBER OF CASES'].sum().sort_values(ascending=False)"
   ]
  },
  {
   "cell_type": "code",
   "execution_count": 9,
   "id": "b196c22d",
   "metadata": {},
   "outputs": [
    {
     "data": {
      "text/plain": [
       "array([0.  , 0.77, 1.94, 2.67, 3.75, 0.06, 0.25, 0.12, 0.32, 0.1 , 0.27,\n",
       "       0.53, 0.63, 1.21, 0.68, 0.43, 1.24, 1.87, 1.39, 0.04, 0.07, 1.13,\n",
       "       0.02, 0.14, 0.19, 0.05, 0.09, 0.11, 0.01, 0.31, 0.38, 1.82, 2.84,\n",
       "       2.11, 0.03, 0.18, 0.24, 0.13, 0.65, 0.69, 0.2 , 0.3 , 0.15, 0.16,\n",
       "       0.29, 0.08, 0.42, 0.26, 0.37, 1.92, 0.28, 0.47, 0.22, 0.33, 0.48,\n",
       "       0.41, 2.04, 0.5 , 1.05, 0.49, 1.28, 0.17, 3.87, 1.74, 0.21, 0.4 ,\n",
       "       0.34, 0.73, 1.25, 0.51, 0.23, 0.35, 0.58, 0.82, 1.81, 0.64, 0.78,\n",
       "       0.76, 0.39, 0.9 , 3.86])"
      ]
     },
     "execution_count": 9,
     "metadata": {},
     "output_type": "execute_result"
    }
   ],
   "source": [
    "Diseases[Diseases['DISEASES']=='OPD_Anemia']['Disease_Burden(%)_per_Sector'].unique()"
   ]
  },
  {
   "cell_type": "code",
   "execution_count": null,
   "id": "50898cc7",
   "metadata": {},
   "outputs": [],
   "source": []
  }
 ],
 "metadata": {
  "kernelspec": {
   "display_name": "Python 3 (ipykernel)",
   "language": "python",
   "name": "python3"
  },
  "language_info": {
   "codemirror_mode": {
    "name": "ipython",
    "version": 3
   },
   "file_extension": ".py",
   "mimetype": "text/x-python",
   "name": "python",
   "nbconvert_exporter": "python",
   "pygments_lexer": "ipython3",
   "version": "3.11.4"
  }
 },
 "nbformat": 4,
 "nbformat_minor": 5
}
