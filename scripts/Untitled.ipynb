{
 "cells": [
  {
   "cell_type": "code",
   "execution_count": 1,
   "id": "b9e19460",
   "metadata": {
    "scrolled": true
   },
   "outputs": [
    {
     "ename": "MemoryError",
     "evalue": "",
     "output_type": "error",
     "traceback": [
      "\u001b[1;31m---------------------------------------------------------------------------\u001b[0m",
      "\u001b[1;31mMemoryError\u001b[0m                               Traceback (most recent call last)",
      "Cell \u001b[1;32mIn[1], line 2\u001b[0m\n\u001b[0;32m      1\u001b[0m \u001b[38;5;28;01mwith\u001b[39;00m \u001b[38;5;28mopen\u001b[39m(\u001b[38;5;124m'\u001b[39m\u001b[38;5;124mclean_MOH.py\u001b[39m\u001b[38;5;124m'\u001b[39m) \u001b[38;5;28;01mas\u001b[39;00m f:\n\u001b[1;32m----> 2\u001b[0m     exec(f\u001b[38;5;241m.\u001b[39mread())\n",
      "File \u001b[1;32m<string>:200\u001b[0m\n",
      "File \u001b[1;32m<string>:191\u001b[0m, in \u001b[0;36mmain\u001b[1;34m()\u001b[0m\n",
      "File \u001b[1;32m<string>:107\u001b[0m, in \u001b[0;36mclean_data\u001b[1;34m(data)\u001b[0m\n",
      "File \u001b[1;32m~\\anaconda3\\Lib\\site-packages\\pandas\\core\\strings\\accessor.py:136\u001b[0m, in \u001b[0;36mforbid_nonstring_types.<locals>._forbid_nonstring_types.<locals>.wrapper\u001b[1;34m(self, *args, **kwargs)\u001b[0m\n\u001b[0;32m    131\u001b[0m     msg \u001b[38;5;241m=\u001b[39m (\n\u001b[0;32m    132\u001b[0m         \u001b[38;5;124mf\u001b[39m\u001b[38;5;124m\"\u001b[39m\u001b[38;5;124mCannot use .str.\u001b[39m\u001b[38;5;132;01m{\u001b[39;00mfunc_name\u001b[38;5;132;01m}\u001b[39;00m\u001b[38;5;124m with values of \u001b[39m\u001b[38;5;124m\"\u001b[39m\n\u001b[0;32m    133\u001b[0m         \u001b[38;5;124mf\u001b[39m\u001b[38;5;124m\"\u001b[39m\u001b[38;5;124minferred dtype \u001b[39m\u001b[38;5;124m'\u001b[39m\u001b[38;5;132;01m{\u001b[39;00m\u001b[38;5;28mself\u001b[39m\u001b[38;5;241m.\u001b[39m_inferred_dtype\u001b[38;5;132;01m}\u001b[39;00m\u001b[38;5;124m'\u001b[39m\u001b[38;5;124m.\u001b[39m\u001b[38;5;124m\"\u001b[39m\n\u001b[0;32m    134\u001b[0m     )\n\u001b[0;32m    135\u001b[0m     \u001b[38;5;28;01mraise\u001b[39;00m \u001b[38;5;167;01mTypeError\u001b[39;00m(msg)\n\u001b[1;32m--> 136\u001b[0m \u001b[38;5;28;01mreturn\u001b[39;00m func(\u001b[38;5;28mself\u001b[39m, \u001b[38;5;241m*\u001b[39margs, \u001b[38;5;241m*\u001b[39m\u001b[38;5;241m*\u001b[39mkwargs)\n",
      "File \u001b[1;32m~\\anaconda3\\Lib\\site-packages\\pandas\\core\\strings\\accessor.py:915\u001b[0m, in \u001b[0;36mStringMethods.split\u001b[1;34m(self, pat, n, expand, regex)\u001b[0m\n\u001b[0;32m    913\u001b[0m \u001b[38;5;28;01mif\u001b[39;00m is_re(pat):\n\u001b[0;32m    914\u001b[0m     regex \u001b[38;5;241m=\u001b[39m \u001b[38;5;28;01mTrue\u001b[39;00m\n\u001b[1;32m--> 915\u001b[0m result \u001b[38;5;241m=\u001b[39m \u001b[38;5;28mself\u001b[39m\u001b[38;5;241m.\u001b[39m_data\u001b[38;5;241m.\u001b[39marray\u001b[38;5;241m.\u001b[39m_str_split(pat, n, expand, regex)\n\u001b[0;32m    916\u001b[0m \u001b[38;5;28;01mreturn\u001b[39;00m \u001b[38;5;28mself\u001b[39m\u001b[38;5;241m.\u001b[39m_wrap_result(result, returns_string\u001b[38;5;241m=\u001b[39mexpand, expand\u001b[38;5;241m=\u001b[39mexpand)\n",
      "File \u001b[1;32m~\\anaconda3\\Lib\\site-packages\\pandas\\core\\strings\\object_array.py:359\u001b[0m, in \u001b[0;36mObjectStringArrayMixin._str_split\u001b[1;34m(self, pat, n, expand, regex)\u001b[0m\n\u001b[0;32m    357\u001b[0m             n \u001b[38;5;241m=\u001b[39m \u001b[38;5;241m-\u001b[39m\u001b[38;5;241m1\u001b[39m\n\u001b[0;32m    358\u001b[0m         f \u001b[38;5;241m=\u001b[39m \u001b[38;5;28;01mlambda\u001b[39;00m x: x\u001b[38;5;241m.\u001b[39msplit(pat, n)\n\u001b[1;32m--> 359\u001b[0m \u001b[38;5;28;01mreturn\u001b[39;00m \u001b[38;5;28mself\u001b[39m\u001b[38;5;241m.\u001b[39m_str_map(f, dtype\u001b[38;5;241m=\u001b[39m\u001b[38;5;28mobject\u001b[39m)\n",
      "File \u001b[1;32m~\\anaconda3\\Lib\\site-packages\\pandas\\core\\strings\\object_array.py:78\u001b[0m, in \u001b[0;36mObjectStringArrayMixin._str_map\u001b[1;34m(self, f, na_value, dtype, convert)\u001b[0m\n\u001b[0;32m     76\u001b[0m map_convert \u001b[38;5;241m=\u001b[39m convert \u001b[38;5;129;01mand\u001b[39;00m \u001b[38;5;129;01mnot\u001b[39;00m np\u001b[38;5;241m.\u001b[39mall(mask)\n\u001b[0;32m     77\u001b[0m \u001b[38;5;28;01mtry\u001b[39;00m:\n\u001b[1;32m---> 78\u001b[0m     result \u001b[38;5;241m=\u001b[39m lib\u001b[38;5;241m.\u001b[39mmap_infer_mask(arr, f, mask\u001b[38;5;241m.\u001b[39mview(np\u001b[38;5;241m.\u001b[39muint8), map_convert)\n\u001b[0;32m     79\u001b[0m \u001b[38;5;28;01mexcept\u001b[39;00m (\u001b[38;5;167;01mTypeError\u001b[39;00m, \u001b[38;5;167;01mAttributeError\u001b[39;00m) \u001b[38;5;28;01mas\u001b[39;00m err:\n\u001b[0;32m     80\u001b[0m     \u001b[38;5;66;03m# Reraise the exception if callable `f` got wrong number of args.\u001b[39;00m\n\u001b[0;32m     81\u001b[0m     \u001b[38;5;66;03m# The user may want to be warned by this, instead of getting NaN\u001b[39;00m\n\u001b[0;32m     82\u001b[0m     p_err \u001b[38;5;241m=\u001b[39m (\n\u001b[0;32m     83\u001b[0m         \u001b[38;5;124mr\u001b[39m\u001b[38;5;124m\"\u001b[39m\u001b[38;5;124m((takes)|(missing)) (?(2)from \u001b[39m\u001b[38;5;124m\\\u001b[39m\u001b[38;5;124md+ to )?\u001b[39m\u001b[38;5;124m\\\u001b[39m\u001b[38;5;124md+ \u001b[39m\u001b[38;5;124m\"\u001b[39m\n\u001b[0;32m     84\u001b[0m         \u001b[38;5;124mr\u001b[39m\u001b[38;5;124m\"\u001b[39m\u001b[38;5;124m(?(3)required )positional arguments?\u001b[39m\u001b[38;5;124m\"\u001b[39m\n\u001b[0;32m     85\u001b[0m     )\n",
      "\u001b[1;31mMemoryError\u001b[0m: "
     ]
    }
   ],
   "source": [
    "with open('clean_MOH.py') as f:\n",
    "    exec(f.read())"
   ]
  },
  {
   "cell_type": "code",
   "execution_count": 5,
   "id": "b70493b8",
   "metadata": {},
   "outputs": [
    {
     "data": {
      "text/html": [
       "<div>\n",
       "<style scoped>\n",
       "    .dataframe tbody tr th:only-of-type {\n",
       "        vertical-align: middle;\n",
       "    }\n",
       "\n",
       "    .dataframe tbody tr th {\n",
       "        vertical-align: top;\n",
       "    }\n",
       "\n",
       "    .dataframe thead th {\n",
       "        text-align: right;\n",
       "    }\n",
       "</style>\n",
       "<table border=\"1\" class=\"dataframe\">\n",
       "  <thead>\n",
       "    <tr style=\"text-align: right;\">\n",
       "      <th></th>\n",
       "      <th>Products name</th>\n",
       "      <th>HEALTH FACILITY</th>\n",
       "      <th>EQUIPMENTS</th>\n",
       "      <th>Date</th>\n",
       "      <th>Qty</th>\n",
       "      <th>currency</th>\n",
       "      <th>Province</th>\n",
       "      <th>District</th>\n",
       "      <th>Sector</th>\n",
       "      <th>FACILITY TYPE</th>\n",
       "      <th>ID</th>\n",
       "    </tr>\n",
       "  </thead>\n",
       "  <tbody>\n",
       "    <tr>\n",
       "      <th>569</th>\n",
       "      <td>SUCTION SYSTEM, with jar</td>\n",
       "      <td>DREAM MEDICAL CENTER HOSPITAL</td>\n",
       "      <td>Suction Unit</td>\n",
       "      <td>2019-01-23</td>\n",
       "      <td>1</td>\n",
       "      <td>RWF</td>\n",
       "      <td>Kigali City</td>\n",
       "      <td>Kicukiro</td>\n",
       "      <td>Gatenga</td>\n",
       "      <td>HOSPITAL</td>\n",
       "      <td>113</td>\n",
       "    </tr>\n",
       "    <tr>\n",
       "      <th>570</th>\n",
       "      <td>SUCTION SYSTEM, with jar</td>\n",
       "      <td>DREAM MEDICAL CENTER HOSPITAL</td>\n",
       "      <td>Suction Unit</td>\n",
       "      <td>2019-01-23</td>\n",
       "      <td>1</td>\n",
       "      <td>RWF</td>\n",
       "      <td>Kigali City</td>\n",
       "      <td>Kicukiro</td>\n",
       "      <td>Gatenga</td>\n",
       "      <td>HOSPITAL</td>\n",
       "      <td>113</td>\n",
       "    </tr>\n",
       "    <tr>\n",
       "      <th>815</th>\n",
       "      <td>MICROMOTOR MACHINE</td>\n",
       "      <td>LEGACY CLINICS &amp; DIAGNOSTICS</td>\n",
       "      <td>Micromotor Machine</td>\n",
       "      <td>2019-03-15</td>\n",
       "      <td>2</td>\n",
       "      <td>RWF</td>\n",
       "      <td>Kigali City</td>\n",
       "      <td>Kicukiro</td>\n",
       "      <td>Nyarugunga</td>\n",
       "      <td>CLINIC</td>\n",
       "      <td>111</td>\n",
       "    </tr>\n",
       "    <tr>\n",
       "      <th>981</th>\n",
       "      <td>ULTRASONIC SCALER LED With Bottle</td>\n",
       "      <td>PEKA</td>\n",
       "      <td>Ultrasonic scaler machine</td>\n",
       "      <td>2019-04-10</td>\n",
       "      <td>1</td>\n",
       "      <td>RWF</td>\n",
       "      <td>NaN</td>\n",
       "      <td>NaN</td>\n",
       "      <td>NaN</td>\n",
       "      <td>INDIVIDUAL</td>\n",
       "      <td>956</td>\n",
       "    </tr>\n",
       "    <tr>\n",
       "      <th>1232</th>\n",
       "      <td>DENTAL X-RAY MACHINE, Wall mounted, S605</td>\n",
       "      <td>SALUS POLYCLINIC</td>\n",
       "      <td>Dental X-Ray machine</td>\n",
       "      <td>2019-05-15</td>\n",
       "      <td>1</td>\n",
       "      <td>RWF</td>\n",
       "      <td>Southern Province</td>\n",
       "      <td>Huye</td>\n",
       "      <td>Butare</td>\n",
       "      <td>POLYCLINIC</td>\n",
       "      <td>147</td>\n",
       "    </tr>\n",
       "  </tbody>\n",
       "</table>\n",
       "</div>"
      ],
      "text/plain": [
       "                                 Products name                HEALTH FACILITY  \\\n",
       "569                   SUCTION SYSTEM, with jar  DREAM MEDICAL CENTER HOSPITAL   \n",
       "570                   SUCTION SYSTEM, with jar  DREAM MEDICAL CENTER HOSPITAL   \n",
       "815                         MICROMOTOR MACHINE   LEGACY CLINICS & DIAGNOSTICS   \n",
       "981          ULTRASONIC SCALER LED With Bottle                           PEKA   \n",
       "1232  DENTAL X-RAY MACHINE, Wall mounted, S605               SALUS POLYCLINIC   \n",
       "\n",
       "                     EQUIPMENTS       Date  Qty currency           Province  \\\n",
       "569                Suction Unit 2019-01-23    1      RWF        Kigali City   \n",
       "570                Suction Unit 2019-01-23    1      RWF        Kigali City   \n",
       "815          Micromotor Machine 2019-03-15    2      RWF        Kigali City   \n",
       "981   Ultrasonic scaler machine 2019-04-10    1      RWF                NaN   \n",
       "1232       Dental X-Ray machine 2019-05-15    1      RWF  Southern Province   \n",
       "\n",
       "      District      Sector FACILITY TYPE   ID  \n",
       "569   Kicukiro     Gatenga      HOSPITAL  113  \n",
       "570   Kicukiro     Gatenga      HOSPITAL  113  \n",
       "815   Kicukiro  Nyarugunga        CLINIC  111  \n",
       "981        NaN         NaN    INDIVIDUAL  956  \n",
       "1232      Huye      Butare    POLYCLINIC  147  "
      ]
     },
     "execution_count": 5,
     "metadata": {},
     "output_type": "execute_result"
    }
   ],
   "source": [
    "moh_data.head()"
   ]
  },
  {
   "cell_type": "code",
   "execution_count": 1,
   "id": "0e7dab90",
   "metadata": {},
   "outputs": [],
   "source": [
    "# with open(\"MOH_diseases_burden.py\") as f:\n",
    "#     exec(f.read())"
   ]
  },
  {
   "cell_type": "code",
   "execution_count": 2,
   "id": "c96b9c32",
   "metadata": {},
   "outputs": [
    {
     "data": {
      "text/plain": [
       "Index(['Province', 'District', 'Sector', 'HEALTH FACILITY', 'PERIOD',\n",
       "       'DISEASES', 'NOMBER OF CASES', 'FACILITY TYPE', 'CASES_per_Sector',\n",
       "       'CASES_per_District', 'CASES_per_Province', 'Sect_ID',\n",
       "       'Population_per_Sector', 'Male_per_Sector', 'Female_per_Sector',\n",
       "       'Population_per_District', 'Male_per_District', 'Female_per_District',\n",
       "       'Population_per_Province', 'Male_per_Province', 'Female_per_Province',\n",
       "       'Disease_Burden(%)_per_Sector', 'Disease_Burden(%)_per_District',\n",
       "       'Disease_Burden(%)_per_Province'],\n",
       "      dtype='object')"
      ]
     },
     "execution_count": 2,
     "metadata": {},
     "output_type": "execute_result"
    }
   ],
   "source": [
    "Diseases.columns"
   ]
  },
  {
   "cell_type": "code",
   "execution_count": 6,
   "id": "b34ea4e8",
   "metadata": {},
   "outputs": [],
   "source": [
    "#sales.to_csv('C:/Users/HP ELITEBOOK/Documents/VIEBEG_MEDICAL/research/data/manual/financial.csv',index=False)"
   ]
  },
  {
   "cell_type": "code",
   "execution_count": 4,
   "id": "5bcc85d5",
   "metadata": {},
   "outputs": [
    {
     "data": {
      "text/plain": [
       "Province                          0\n",
       "District                          0\n",
       "Sector                            0\n",
       "HEALTH FACILITY                   0\n",
       "PERIOD                            0\n",
       "DISEASES                          0\n",
       "NOMBER OF CASES                   0\n",
       "FACILITY TYPE                     0\n",
       "CASES_per_Sector                  0\n",
       "CASES_per_District                0\n",
       "CASES_per_Province                0\n",
       "Sect_ID                           0\n",
       "Population_per_Sector             0\n",
       "Male_per_Sector                   0\n",
       "Female_per_Sector                 0\n",
       "Population_per_District           0\n",
       "Male_per_District                 0\n",
       "Female_per_District               0\n",
       "Population_per_Province           0\n",
       "Male_per_Province                 0\n",
       "Female_per_Province               0\n",
       "Disease_Burden(%)_per_Sector      0\n",
       "Disease_Burden(%)_per_District    0\n",
       "Disease_Burden(%)_per_Province    0\n",
       "dtype: int64"
      ]
     },
     "execution_count": 4,
     "metadata": {},
     "output_type": "execute_result"
    }
   ],
   "source": [
    "Diseases.isnull().sum()"
   ]
  },
  {
   "cell_type": "code",
   "execution_count": 6,
   "id": "95bad6e9",
   "metadata": {},
   "outputs": [
    {
     "data": {
      "text/plain": [
       "DISEASES\n",
       "OPD_Acute respiratory disease other                         12720959\n",
       "OPD_Diseases of urinary tract system                         5950166\n",
       "Children consulted for cough or difficult breathing_IMCI     4839293\n",
       "OPD_Intestinal parasites (others)                            4321360\n",
       "Dental caries_OPDnew                                         4185479\n",
       "                                                              ...   \n",
       "OPD_Eye problems                                                   0\n",
       "OPD_Inborn errors of metabolism_RH                                 0\n",
       "OPD_Eye_ophthalmological cancers_RH                                0\n",
       "OPD_Low vision rehabilitation                                      0\n",
       "OPD_Fracture other limb trauma_RH                                  0\n",
       "Name: NOMBER OF CASES, Length: 268, dtype: int64"
      ]
     },
     "execution_count": 6,
     "metadata": {},
     "output_type": "execute_result"
    }
   ],
   "source": [
    "Diseases.groupby('DISEASES')['NOMBER OF CASES'].sum().sort_values(ascending=False)"
   ]
  },
  {
   "cell_type": "code",
   "execution_count": 9,
   "id": "b196c22d",
   "metadata": {},
   "outputs": [
    {
     "data": {
      "text/plain": [
       "array([0.  , 0.77, 1.94, 2.67, 3.75, 0.06, 0.25, 0.12, 0.32, 0.1 , 0.27,\n",
       "       0.53, 0.63, 1.21, 0.68, 0.43, 1.24, 1.87, 1.39, 0.04, 0.07, 1.13,\n",
       "       0.02, 0.14, 0.19, 0.05, 0.09, 0.11, 0.01, 0.31, 0.38, 1.82, 2.84,\n",
       "       2.11, 0.03, 0.18, 0.24, 0.13, 0.65, 0.69, 0.2 , 0.3 , 0.15, 0.16,\n",
       "       0.29, 0.08, 0.42, 0.26, 0.37, 1.92, 0.28, 0.47, 0.22, 0.33, 0.48,\n",
       "       0.41, 2.04, 0.5 , 1.05, 0.49, 1.28, 0.17, 3.87, 1.74, 0.21, 0.4 ,\n",
       "       0.34, 0.73, 1.25, 0.51, 0.23, 0.35, 0.58, 0.82, 1.81, 0.64, 0.78,\n",
       "       0.76, 0.39, 0.9 , 3.86])"
      ]
     },
     "execution_count": 9,
     "metadata": {},
     "output_type": "execute_result"
    }
   ],
   "source": [
    "Diseases[Diseases['DISEASES']=='OPD_Anemia']['Disease_Burden(%)_per_Sector'].unique()"
   ]
  },
  {
   "cell_type": "code",
   "execution_count": null,
   "id": "50898cc7",
   "metadata": {},
   "outputs": [],
   "source": []
  }
 ],
 "metadata": {
  "kernelspec": {
   "display_name": "Python 3 (ipykernel)",
   "language": "python",
   "name": "python3"
  },
  "language_info": {
   "codemirror_mode": {
    "name": "ipython",
    "version": 3
   },
   "file_extension": ".py",
   "mimetype": "text/x-python",
   "name": "python",
   "nbconvert_exporter": "python",
   "pygments_lexer": "ipython3",
   "version": "3.11.4"
  }
 },
 "nbformat": 4,
 "nbformat_minor": 5
}
